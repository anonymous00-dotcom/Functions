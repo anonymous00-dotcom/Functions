{
  "nbformat": 4,
  "nbformat_minor": 0,
  "metadata": {
    "colab": {
      "provenance": []
    },
    "kernelspec": {
      "name": "python3",
      "display_name": "Python 3"
    },
    "language_info": {
      "name": "python"
    }
  },
  "cells": [
    {
      "cell_type": "markdown",
      "source": [
        "#Functions\n"
      ],
      "metadata": {
        "id": "ztpWhlTh6NZz"
      }
    },
    {
      "cell_type": "markdown",
      "source": [
        "1. Difference between a Function and a Method in Python.\n",
        "  - A function is a block of reusable code that performs a specific task and is defined using the def keyword.\n",
        "  - A method is a function that belongs to an object and is called using the object's instance."
      ],
      "metadata": {
        "id": "vISODenB6Rar"
      }
    },
    {
      "cell_type": "code",
      "source": [
        "#Example\n",
        "\n",
        "# Function\n",
        "def add(a, b):\n",
        "    return a + b\n",
        "print(add(2, 3))  # Output: 5\n",
        "\n",
        "# Method inside a class\n",
        "class MathOperations:\n",
        "    def multiply(self, a, b):\n",
        "        return a * b\n",
        "\n",
        "obj = MathOperations()\n",
        "print(obj.multiply(2, 3))  # Output: 6\n"
      ],
      "metadata": {
        "colab": {
          "base_uri": "https://localhost:8080/"
        },
        "id": "crA_Qlok61KT",
        "outputId": "43a9afab-0ef3-476a-ac6b-5dbb8f259613"
      },
      "execution_count": null,
      "outputs": [
        {
          "output_type": "stream",
          "name": "stdout",
          "text": [
            "5\n",
            "6\n"
          ]
        }
      ]
    },
    {
      "cell_type": "markdown",
      "source": [
        "2. Function Arguments and Parameters in Python\n",
        "  - Parameters are variables listed in the function definition.\n",
        "  - Arguments are values passed to the function when calling it."
      ],
      "metadata": {
        "id": "740ojGmD7SE7"
      }
    },
    {
      "cell_type": "code",
      "source": [
        "#Example\n",
        "\n",
        "def greet(name):  # name is a parameter\n",
        "    return \"Hello, \" + name\n",
        "\n",
        "print(greet(\"Alice\"))  # \"Alice\" is an argument\n",
        "\n"
      ],
      "metadata": {
        "colab": {
          "base_uri": "https://localhost:8080/"
        },
        "id": "4yI5WQph7XxD",
        "outputId": "e00e0d57-405d-495e-fbf0-89b463eaa97f"
      },
      "execution_count": null,
      "outputs": [
        {
          "output_type": "stream",
          "name": "stdout",
          "text": [
            "Hello, Alice\n"
          ]
        }
      ]
    },
    {
      "cell_type": "markdown",
      "source": [
        "3. Different Ways to Define and Call a Function."
      ],
      "metadata": {
        "id": "rbCwBip79dc0"
      }
    },
    {
      "cell_type": "code",
      "source": [
        "#Using def keyword\n",
        "\n",
        "def add(a, b):\n",
        "    return a + b\n",
        "\n",
        "print(add(5, 3))  # Output: 8\n",
        "\n",
        "\n",
        "#Using lambda function\n",
        "\n",
        "add = lambda a, b: a + b\n",
        "print(add(5, 3))  # Output: 8\n"
      ],
      "metadata": {
        "colab": {
          "base_uri": "https://localhost:8080/"
        },
        "id": "iVnMLGYP9h9U",
        "outputId": "f2bc5d59-6f49-43c1-9de7-761f287ee699"
      },
      "execution_count": null,
      "outputs": [
        {
          "output_type": "stream",
          "name": "stdout",
          "text": [
            "8\n",
            "8\n"
          ]
        }
      ]
    },
    {
      "cell_type": "markdown",
      "source": [
        "4.  Purpose of the return Statement.\n",
        "  - The return statement is used to send a result from a function back to the caller."
      ],
      "metadata": {
        "id": "9UNRaqEZ96dd"
      }
    },
    {
      "cell_type": "code",
      "source": [
        "def square(num):\n",
        "    return num * num\n",
        "\n",
        "print(square(4))  # Output: 16\n"
      ],
      "metadata": {
        "colab": {
          "base_uri": "https://localhost:8080/"
        },
        "id": "JufG4VfN99SM",
        "outputId": "bc202beb-fb45-4e82-b6b2-e0814e41be64"
      },
      "execution_count": null,
      "outputs": [
        {
          "output_type": "stream",
          "name": "stdout",
          "text": [
            "16\n"
          ]
        }
      ]
    },
    {
      "cell_type": "markdown",
      "source": [
        "5. Iterators vs. Iterables\n",
        "  - An iterable is an object that can be looped over (e.g., lists, tuples, dictionaries).\n",
        "  - An iterator is an object that uses __iter__() and __next__() methods."
      ],
      "metadata": {
        "id": "H_0FvKiV-JGd"
      }
    },
    {
      "cell_type": "code",
      "source": [
        "my_list = [1, 2, 3]\n",
        "my_iter = iter(my_list)  # Creating an iterator\n",
        "print(next(my_iter))  # Output: 1\n",
        "print(next(my_iter))  # Output: 2"
      ],
      "metadata": {
        "colab": {
          "base_uri": "https://localhost:8080/"
        },
        "id": "Y8SNJLiy-Qp0",
        "outputId": "9839a7e2-f883-4e05-bf95-a2663e5604a0"
      },
      "execution_count": null,
      "outputs": [
        {
          "output_type": "stream",
          "name": "stdout",
          "text": [
            "1\n",
            "2\n"
          ]
        }
      ]
    },
    {
      "cell_type": "markdown",
      "source": [
        "6. Generators in Python.\n",
        " - A generator is a special function that produces values lazily using yield."
      ],
      "metadata": {
        "id": "8e1WINLv-dOk"
      }
    },
    {
      "cell_type": "code",
      "source": [
        "def my_gen():\n",
        "    yield 1\n",
        "    yield 2\n",
        "    yield 3\n",
        "\n",
        "gen = my_gen()\n",
        "print(next(gen))  # Output: 1\n",
        "print(next(gen))  # Output: 2\n"
      ],
      "metadata": {
        "colab": {
          "base_uri": "https://localhost:8080/"
        },
        "id": "NuLsGyyk-et2",
        "outputId": "1e071037-6f81-437d-a8ee-fa4d44b2234f"
      },
      "execution_count": null,
      "outputs": [
        {
          "output_type": "stream",
          "name": "stdout",
          "text": [
            "1\n",
            "2\n"
          ]
        }
      ]
    },
    {
      "cell_type": "markdown",
      "source": [
        "7. Advantages of Generators.\n",
        " - Memory Efficient: Doesn't store all values in memory.\n",
        " - Lazy Evaluation: Generates values on demand."
      ],
      "metadata": {
        "id": "wb3VxTU9-gJ1"
      }
    },
    {
      "cell_type": "code",
      "source": [
        "def count_up_to(n):\n",
        "    i = 1\n",
        "    while i <= n:\n",
        "        yield i\n",
        "        i += 1\n",
        "\n",
        "for num in count_up_to(5):\n",
        "    print(num)\n"
      ],
      "metadata": {
        "colab": {
          "base_uri": "https://localhost:8080/"
        },
        "id": "eSjDiyZH_Ie1",
        "outputId": "4d869f42-574e-45a8-bfd0-c1bfcea9353a"
      },
      "execution_count": null,
      "outputs": [
        {
          "output_type": "stream",
          "name": "stdout",
          "text": [
            "1\n",
            "2\n",
            "3\n",
            "4\n",
            "5\n"
          ]
        }
      ]
    },
    {
      "cell_type": "markdown",
      "source": [
        "8. Lambda Function and Its Usage.\n",
        "  - A lambda function is a small, anonymous function that can have any number of arguments but only one expression."
      ],
      "metadata": {
        "id": "BsR9DUwM_J4t"
      }
    },
    {
      "cell_type": "code",
      "source": [
        "#Example\n",
        "\n",
        "add = lambda x, y: x + y\n",
        "print(add(3, 4))  # Output: 7\n"
      ],
      "metadata": {
        "colab": {
          "base_uri": "https://localhost:8080/"
        },
        "id": "Sa7CKo7g_nnl",
        "outputId": "75f1bef8-0265-4edd-f7fe-5caccacf7c5c"
      },
      "execution_count": null,
      "outputs": [
        {
          "output_type": "stream",
          "name": "stdout",
          "text": [
            "7\n"
          ]
        }
      ]
    },
    {
      "cell_type": "markdown",
      "source": [
        "9. Purpose of map() Function.\n",
        " - map() applies a function to all elements in an iterable."
      ],
      "metadata": {
        "id": "4abJ7Udr_sw1"
      }
    },
    {
      "cell_type": "code",
      "source": [
        "#Example\n",
        "nums = [1, 2, 3, 4]\n",
        "squared = list(map(lambda x: x**2, nums))\n",
        "print(squared)  # Output: [1, 4, 9, 16]\n"
      ],
      "metadata": {
        "colab": {
          "base_uri": "https://localhost:8080/"
        },
        "id": "lBrk41JK_1vl",
        "outputId": "9c0aac4a-9115-41e3-c768-f05d9a7b3977"
      },
      "execution_count": null,
      "outputs": [
        {
          "output_type": "stream",
          "name": "stdout",
          "text": [
            "[1, 4, 9, 16]\n"
          ]
        }
      ]
    },
    {
      "cell_type": "markdown",
      "source": [
        "10. Difference Between map(), reduce(), and filter().\n",
        "\n",
        "  - map() ; Applies a function to all elements ; ex - map(lambda x: x*2, [1,2,3]) → [2,4,6].\n",
        "\n",
        "  - reduce() ; Reduces an iterable to a single value ; ex - reduce(lambda x, y: x+y, [1,2,3]) → 6.\n",
        "\n",
        "  - filter() ;\tFilters elements based on a condition\t; filter(lambda x: x%2==0, [1,2,3,4]) → [2,4]."
      ],
      "metadata": {
        "id": "iTz9jF6YAHNF"
      }
    },
    {
      "cell_type": "markdown",
      "source": [
        "11. Sum Operation Using reduce().\n",
        " - https://drive.google.com/file/d/1MzNG5N-mCmiIIPQFRBENymEeef7OV1q_/view?usp=sharing"
      ],
      "metadata": {
        "id": "X7OVbt5eCATX"
      }
    },
    {
      "cell_type": "markdown",
      "source": [
        "#Practical"
      ],
      "metadata": {
        "id": "Vplrx3w0CfUo"
      }
    },
    {
      "cell_type": "markdown",
      "source": [
        "1. Sum of All Even Numbers in a List."
      ],
      "metadata": {
        "id": "486iEZSZCylP"
      }
    },
    {
      "cell_type": "code",
      "source": [
        "def sum_even_numbers(lst):\n",
        "    return sum(num for num in lst if num % 2 == 0)\n",
        "\n",
        "print(sum_even_numbers([1, 2, 3, 4, 5, 6]))  # Output: 12\n"
      ],
      "metadata": {
        "colab": {
          "base_uri": "https://localhost:8080/"
        },
        "id": "7oPDLIHSC0Ov",
        "outputId": "42965db7-38aa-4d4f-e3b5-32f57bb57612"
      },
      "execution_count": null,
      "outputs": [
        {
          "output_type": "stream",
          "name": "stdout",
          "text": [
            "12\n"
          ]
        }
      ]
    },
    {
      "cell_type": "markdown",
      "source": [
        "2. Reverse a String."
      ],
      "metadata": {
        "id": "hsXSlobGC3CP"
      }
    },
    {
      "cell_type": "code",
      "source": [
        "def reverse_string(s):\n",
        "    return s[::-1]\n",
        "\n",
        "print(reverse_string(\"hello\"))  # Output: \"olleh\"\n"
      ],
      "metadata": {
        "colab": {
          "base_uri": "https://localhost:8080/"
        },
        "id": "db9cYiizC4vn",
        "outputId": "cb6e8111-be06-4e5c-e017-e980d9e15a38"
      },
      "execution_count": null,
      "outputs": [
        {
          "output_type": "stream",
          "name": "stdout",
          "text": [
            "olleh\n"
          ]
        }
      ]
    },
    {
      "cell_type": "markdown",
      "source": [
        "3. Square of Each Number in a List."
      ],
      "metadata": {
        "id": "2FLVucreC8Wn"
      }
    },
    {
      "cell_type": "code",
      "source": [
        "def square_list(lst):\n",
        "    return [x**2 for x in lst]\n",
        "\n",
        "print(square_list([1, 2, 3, 4]))  # Output: [1, 4, 9, 16]\n"
      ],
      "metadata": {
        "colab": {
          "base_uri": "https://localhost:8080/"
        },
        "id": "uZvEqwO2C92J",
        "outputId": "12127af7-e689-4ac6-b557-34b046d5625e"
      },
      "execution_count": null,
      "outputs": [
        {
          "output_type": "stream",
          "name": "stdout",
          "text": [
            "[1, 4, 9, 16]\n"
          ]
        }
      ]
    },
    {
      "cell_type": "markdown",
      "source": [
        "4. Check Prime Numbers (1 to 200)."
      ],
      "metadata": {
        "id": "aTaILNg_C_7_"
      }
    },
    {
      "cell_type": "code",
      "source": [
        "def is_prime(n):\n",
        "    if n < 2:\n",
        "        return False\n",
        "    for i in range(2, int(n**0.5) + 1):\n",
        "        if n % i == 0:\n",
        "            return False\n",
        "    return True\n",
        "\n",
        "primes = [n for n in range(1, 201) if is_prime(n)]\n",
        "print(primes)\n"
      ],
      "metadata": {
        "colab": {
          "base_uri": "https://localhost:8080/"
        },
        "id": "vg39lxh5DB2f",
        "outputId": "d941da18-777e-4b8c-fb67-e43e2c36f9b9"
      },
      "execution_count": null,
      "outputs": [
        {
          "output_type": "stream",
          "name": "stdout",
          "text": [
            "[2, 3, 5, 7, 11, 13, 17, 19, 23, 29, 31, 37, 41, 43, 47, 53, 59, 61, 67, 71, 73, 79, 83, 89, 97, 101, 103, 107, 109, 113, 127, 131, 137, 139, 149, 151, 157, 163, 167, 173, 179, 181, 191, 193, 197, 199]\n"
          ]
        }
      ]
    },
    {
      "cell_type": "markdown",
      "source": [
        "5. Fibonacci Iterator Class."
      ],
      "metadata": {
        "id": "EMmpb-cpDFuH"
      }
    },
    {
      "cell_type": "code",
      "source": [
        "class Fibonacci:\n",
        "    def __init__(self, n):\n",
        "        self.n, self.a, self.b = n, 0, 1\n",
        "\n",
        "    def __iter__(self):\n",
        "        return self\n",
        "\n",
        "    def __next__(self):\n",
        "        if self.n == 0:\n",
        "            raise StopIteration\n",
        "        self.n -= 1\n",
        "        self.a, self.b = self.b, self.a + self.b\n",
        "        return self.a\n",
        "\n",
        "fib = Fibonacci(10)\n",
        "print(list(fib))\n"
      ],
      "metadata": {
        "colab": {
          "base_uri": "https://localhost:8080/"
        },
        "id": "XPuMWSupDHdg",
        "outputId": "47451c06-3c7f-40c6-94a9-87788ee030f5"
      },
      "execution_count": null,
      "outputs": [
        {
          "output_type": "stream",
          "name": "stdout",
          "text": [
            "[1, 1, 2, 3, 5, 8, 13, 21, 34, 55]\n"
          ]
        }
      ]
    },
    {
      "cell_type": "markdown",
      "source": [
        "6. Generator for Powers of 2."
      ],
      "metadata": {
        "id": "XByqMO6vDnX3"
      }
    },
    {
      "cell_type": "code",
      "source": [
        "def power_of_2(n):\n",
        "    for i in range(n+1):\n",
        "        yield 2**i\n",
        "\n",
        "print(list(power_of_2(5)))\n"
      ],
      "metadata": {
        "colab": {
          "base_uri": "https://localhost:8080/"
        },
        "id": "pE5p2FkhDtHn",
        "outputId": "ab241aa3-55ae-4c5c-f891-cbfe2b01802d"
      },
      "execution_count": null,
      "outputs": [
        {
          "output_type": "stream",
          "name": "stdout",
          "text": [
            "[1, 2, 4, 8, 16, 32]\n"
          ]
        }
      ]
    },
    {
      "cell_type": "markdown",
      "source": [
        "7. File Line Generator."
      ],
      "metadata": {
        "id": "7eQ1LgejDwM3"
      }
    },
    {
      "cell_type": "markdown",
      "source": [
        "8. Sort Tuples by Second Element Using Lambda."
      ],
      "metadata": {
        "id": "kUflwX-DD30v"
      }
    },
    {
      "cell_type": "code",
      "source": [
        "data = [(1, 5), (2, 3), (3, 8)]\n",
        "data.sort(key=lambda x: x[1])\n",
        "print(data)  # Output: [(2, 3), (1, 5), (3, 8)]\n"
      ],
      "metadata": {
        "colab": {
          "base_uri": "https://localhost:8080/"
        },
        "id": "5Ana1AarD51I",
        "outputId": "0cb4d3ea-d566-4220-8de3-bf5c73300f33"
      },
      "execution_count": null,
      "outputs": [
        {
          "output_type": "stream",
          "name": "stdout",
          "text": [
            "[(2, 3), (1, 5), (3, 8)]\n"
          ]
        }
      ]
    },
    {
      "cell_type": "markdown",
      "source": [
        "9. Convert Celsius to Fahrenheit Using map()."
      ],
      "metadata": {
        "id": "xnssq7gYD7jh"
      }
    },
    {
      "cell_type": "code",
      "source": [
        "temps = [0, 20, 30]\n",
        "fahrenheit = list(map(lambda c: (c * 9/5) + 32, temps))\n",
        "print(fahrenheit)  # Output: [32.0, 68.0, 86.0]\n"
      ],
      "metadata": {
        "colab": {
          "base_uri": "https://localhost:8080/"
        },
        "id": "waCKw9BFD9PX",
        "outputId": "d1d35430-fb7f-43c6-b5a6-a35ca399fa91"
      },
      "execution_count": null,
      "outputs": [
        {
          "output_type": "stream",
          "name": "stdout",
          "text": [
            "[32.0, 68.0, 86.0]\n"
          ]
        }
      ]
    },
    {
      "cell_type": "markdown",
      "source": [
        "10. Remove Vowels Using filter()."
      ],
      "metadata": {
        "id": "hTZtlaITD-Rn"
      }
    },
    {
      "cell_type": "code",
      "source": [
        "def remove_vowels(s):\n",
        "    return \"\".join(filter(lambda ch: ch.lower() not in \"aeiou\", s))\n",
        "\n",
        "print(remove_vowels(\"hello world\"))  # Output: \"hll wrld\"\n"
      ],
      "metadata": {
        "colab": {
          "base_uri": "https://localhost:8080/"
        },
        "id": "nmOKK7fGEA4I",
        "outputId": "7f024cda-d440-4628-a974-73dff361b17d"
      },
      "execution_count": null,
      "outputs": [
        {
          "output_type": "stream",
          "name": "stdout",
          "text": [
            "hll wrld\n"
          ]
        }
      ]
    },
    {
      "cell_type": "markdown",
      "source": [
        "11. Accounting Routine Using lambda and map()."
      ],
      "metadata": {
        "id": "Ig6N_30fEG6Z"
      }
    },
    {
      "cell_type": "code",
      "source": [
        "orders = [(34587, 4, 40.95), (98762, 5, 56.80), (77226, 3, 32.99)]\n",
        "invoice = list(map(lambda x: (x[0], x[1] * x[2] + (10 if x[1] * x[2] < 100 else 0)), orders))\n",
        "print(invoice)\n"
      ],
      "metadata": {
        "colab": {
          "base_uri": "https://localhost:8080/"
        },
        "id": "w2xYOfdQEIpY",
        "outputId": "5c60ec5a-46d8-4a1f-8b43-32812ea99d3d"
      },
      "execution_count": null,
      "outputs": [
        {
          "output_type": "stream",
          "name": "stdout",
          "text": [
            "[(34587, 163.8), (98762, 284.0), (77226, 108.97)]\n"
          ]
        }
      ]
    }
  ]
}